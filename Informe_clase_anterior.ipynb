{
 "cells": [
  {
   "cell_type": "markdown",
   "metadata": {},
   "source": [
    "# **INFORME DE LA CLASE DEL DIA 03/02/2025**"
   ]
  },
  {
   "cell_type": "markdown",
   "metadata": {},
   "source": [
    "## **Los Virtual Environment**"
   ]
  },
  {
   "cell_type": "markdown",
   "metadata": {},
   "source": [
    "### **¿Qué son?**"
   ]
  },
  {
   "cell_type": "markdown",
   "metadata": {},
   "source": [
    "```plainText\n",
    "Es una herramienta que permite mantener las dependencias de un proyecto aisladas de cualquier otro proyecto.\n",
    "Su uso resulta muy útil cuando se trabaja en multiples proyectos que requieren diferentes versiones de paquetes\n",
    "```"
   ]
  },
  {
   "cell_type": "markdown",
   "metadata": {},
   "source": [
    "### **Proceso de Creación de Virtual Environment**"
   ]
  },
  {
   "cell_type": "markdown",
   "metadata": {},
   "source": [
    "```plainText\n",
    "Se inicia creando una carpeta en cualquier parte de la computadora\n",
    "Desde el visual studio code, seleccionar archivo < arbir carpeta < seleccionamos al carpeta que se va utilizar\n",
    "De esta manera ya podemos empezar a almacenar las librerias necesarias para realizar nuestro proyecto\n",
    "```"
   ]
  },
  {
   "cell_type": "markdown",
   "metadata": {},
   "source": [
    "### **Creación de la Carpeta de Librerias**"
   ]
  },
  {
   "cell_type": "markdown",
   "metadata": {},
   "source": [
    "```plainText\n",
    "En mi caso se utilizó la terminal en visual studio code\n",
    "\n",
    "Para crearla vamos esrcibir en aquella terminal el siguiente comando\n",
    "```\n",
    "```py\n",
    "python -m venv venv\n",
    "```\n",
    "```plainText\n",
    "Esto nos  como resultado la creación de una carpeta con el nombre de \"venv\" destinado para el alamacenamiento de las libreriasdaria\n",
    "```"
   ]
  },
  {
   "cell_type": "markdown",
   "metadata": {},
   "source": [
    "### **Activación de Virtual Environments**"
   ]
  },
  {
   "cell_type": "markdown",
   "metadata": {},
   "source": [
    "```plainText\n",
    "Para activar los virtual enviroments se tiene que aplicar el siguiente comando:\n",
    "```\n",
    "```python\n",
    "source venv/Scripts/activate\n",
    "```\n",
    "```plainText\n",
    "De esta manera ya tendriamos activado el virtual environment que vamos a utilizar\n",
    "```"
   ]
  },
  {
   "cell_type": "markdown",
   "metadata": {},
   "source": [
    "### **Asignación e Instalación de Librerias**"
   ]
  },
  {
   "cell_type": "markdown",
   "metadata": {},
   "source": [
    "```plainText\n",
    "En este caso, el docente me proporcionó una lista de librerias que son muy útiles para trabajar con python\n",
    "Me recomendó colocar esta lista en un bloc de notas, el cual llamé requeriments.txt\n",
    "Estas fueron las siguientes: \n",
    "```\n",
    "### Requisitos principales\n",
    "```plainText\n",
    "numpy>=1.21.0,<2           Manipulación de arrays numéricos (compatible con OpenCV)\n",
    "```\n",
    "```plainText\n",
    "opencv-python==4.8.0.74    OpenCV: procesamiento de imágenes\n",
    "```\n",
    "```plainText\n",
    "matplotlib>=3.4.0          Visualización de imágenes y gráficos\n",
    " ```\n",
    "### Jupyter Notebook para análisis y documentación\n",
    "```plainText\n",
    "notebook>=6.4.0            Soporte para Jupyter Notebook\n",
    "``` \n",
    "### Requisitos para pruebas\n",
    "```plainText\n",
    "pytest>=7.0.0              Framework para pruebas\n",
    "```\n",
    "```plainText\n",
    "pytest-mock>=3.10.0        Soporte para mocks en pytest\n",
    "```\n",
    "```plainText\n",
    "unittest-xml-reporting>=3.0.0 Soporte adicional para unittest (opcional)\n",
    "``` \n",
    "### Requisitos para desarrollo\n",
    "```plainText\n",
    "requests>=2.25.0           Para realizar solicitudes HTTP (GitHub, API)\n",
    "```\n",
    "### Requisitos para exportar a otros formatos\n",
    "```plainText\n",
    "jupytext>=1.14.5           Conversión de Jupyter Notebooks a texto plano\n",
    "``` \n",
    "### OpenAI y procesamiento de tokens\n",
    "```plainText\n",
    "openai==0.28               Cliente de OpenAI\n",
    "```\n",
    "```plainText\n",
    "python-dotenv>=0.19.0      Manejo de variables de entorno\n",
    "```\n",
    "```plainText\n",
    "tiktoken==0.8.0            Cálculo de tokens para prompts en OpenAI\n",
    "``` \n",
    "### Google Drive API y autenticación\n",
    "```plainText\n",
    "google-api-python-client>=2.70.0  Cliente para la API de Google Drive\n",
    "```\n",
    "```plainText\n",
    "google-auth>=2.15.0               Manejo de autenticación con Google\n",
    "```\n",
    "```plainText\n",
    "google-auth-oauthlib>=0.5.3       Autenticación OAuth 2.0\n",
    "```\n",
    "```plainText\n",
    "google-auth-httplib2>=0.1.0       Soporte de transporte HTTP para Google Auth\n",
    "``` \n",
    "```plainText \n",
    "ipywidgets>=7.6.3          Widgets interactivos en Jupyter Notebook\n",
    "```"
   ]
  },
  {
   "cell_type": "markdown",
   "metadata": {},
   "source": [
    "```plainText\n",
    "Antes de proceder a instalar las librerias debemos de verificar cuales son las librerias que tenemos instaladas con el siguiente comando:\n",
    "```\n",
    "```py \n",
    "pip list\n",
    "``` \n",
    "```plainText\n",
    "De esta manera mostrará que librerias tenemos instaladas\n",
    "\n",
    "Para instalar cada una de estas aplicamos el siguiente comando para instalar cada una de ellas:\n",
    "```\n",
    "```py\n",
    "pip install -r requeriments.txt\n",
    "```\n",
    "```plainText\n",
    "De esta manera ya se estarán instalando todas las librerias que son necesarias para trabajar.\n",
    "\n",
    "Por último para verificar que esten correctamente instaladas las librerias se vuelve a utilizar el siguiente comando:\n",
    "```\n",
    "```py\n",
    "pip list\n",
    "```\n",
    "```plainText\n",
    "Esto mostrará si ya tenemos las librerias instaladas\n",
    "```"
   ]
  },
  {
   "cell_type": "markdown",
   "metadata": {},
   "source": [
    "```python - venv venv\n",
    "\n",
    "pytest\n",
    "```"
   ]
  },
  {
   "cell_type": "markdown",
   "metadata": {},
   "source": [
    "# **¿Para qué sirven los \"__\" al inicio?**"
   ]
  },
  {
   "cell_type": "markdown",
   "metadata": {},
   "source": [
    "```plainText\n",
    "En Python, los nombres de atributos o métodos que comienzan con dos guiones bajos\n",
    "(por ejemplo, __atributo) utilizan un mecanismo llamado name mangling las clases, especialmente en la herencia.\n",
    "```"
   ]
  },
  {
   "cell_type": "markdown",
   "metadata": {},
   "source": [
    "### ¿Qué es el name mangling?"
   ]
  },
  {
   "cell_type": "markdown",
   "metadata": {},
   "source": [
    "```plainText\n",
    "Cuando defines un atributo o método con dos guiones bajos al inicio, Python modifica\n",
    "su nombre para incluir el nombre de la clase. \n",
    "```"
   ]
  },
  {
   "cell_type": "markdown",
   "metadata": {},
   "source": [
    "### ¿Cómo se utiliza?"
   ]
  },
  {
   "cell_type": "markdown",
   "metadata": {},
   "source": [
    "```plainText\n",
    "Por ejemplo, en una clase llamada \"MiClase\", un atributo definido como __atributo se renombrará internamente a \"_MiClase__atributo\". \n",
    "Esto significa que no se puede acceder a \"__atributo\"\n",
    "directamente desde fuera de la clase, pero sí se puede acceder usando el nombre modificado.\n",
    "```"
   ]
  },
  {
   "cell_type": "markdown",
   "metadata": {},
   "source": [
    "### Ejemplo de Aplicación"
   ]
  },
  {
   "cell_type": "markdown",
   "metadata": {},
   "source": [
    "```py \n",
    "class MiClase:\n",
    "    def __init__(self):\n",
    "        self.__atributo = 42  \n",
    "```\n",
    "```plainText\n",
    "Renombrado a _MiClase__atributo\n",
    "```\n",
    "```py \n",
    "    def obtener_atributo(self):\n",
    "        return self.__atributo\n",
    "```\n",
    "```plainText\n",
    "En conclusión, los dos guiones bajos al inicio de un nombre en python indican el atributo o método es privado\n",
    "y se aplica name mangling para evitar conflictos en la herencia\n",
    "```"
   ]
  },
  {
   "cell_type": "markdown",
   "metadata": {},
   "source": [
    "# **Kwargs**"
   ]
  },
  {
   "cell_type": "markdown",
   "metadata": {},
   "source": [
    "### ¿Qué es el Kwargs?"
   ]
  },
  {
   "cell_type": "markdown",
   "metadata": {},
   "source": [
    "```plainText\n",
    "En Python, **kwargs es una convención que permite pasar un número variable de argumentos con nombre a una función,\n",
    "convirtiéndose en un diccionario dentro de la función. Esto proporciona flexibilidad al capturar argumentos no definidos explícitamente.\n",
    "```"
   ]
  },
  {
   "cell_type": "markdown",
   "metadata": {},
   "source": [
    "### ¿Cómo se utiliza?"
   ]
  },
  {
   "cell_type": "markdown",
   "metadata": {},
   "source": [
    "```plainText\n",
    "El kwargs en el caso de una función, se utiliza para capturar los argumentos adicionales que no se han definido\n",
    "explicitamente en la firma de la función\n",
    "```\n",
    "```plainText \n",
    "También, se convierte en un diccionario donde las claves son los nombres de los argumentos\n",
    "y los valores, estos vendrían a ser sus respectivos valores\n",
    "```"
   ]
  },
  {
   "cell_type": "markdown",
   "metadata": {},
   "source": [
    "### Ejemplo Básico de Uso"
   ]
  },
  {
   "cell_type": "markdown",
   "metadata": {},
   "source": [
    "```py\n",
    "def funcion_con_kwargs(**kwargs):\n",
    "    for clave, valor in kwargs.items():\n",
    "        print(f\"{clave}: {valor}\")\n",
    "funcion_con_kwargs(nombre=\"Juan\", edad=30, ciudad=\"Madrid\")\n",
    "```"
   ]
  },
  {
   "cell_type": "markdown",
   "metadata": {},
   "source": [
    "### Uso del Kwargs en Vision por Computadora"
   ]
  },
  {
   "cell_type": "markdown",
   "metadata": {},
   "source": [
    "```plainText\n",
    "Nos permite configurar diversos modelos, de esta manera se puede pasar parámetros como el número de capas y la tasa de aprendizaje al crear modelos de aprendizaje profundo.\n",
    "```\n",
    "```plainText\n",
    "Ejemplo:\n",
    "```\n",
    "```py\n",
    "def crear_modelo(tipo_modelo, **kwargs):\n",
    "    # Configuración del modelo según el tipo\n",
    "    return modelo\n",
    "```\n",
    "```plainText\n",
    "También nos facilita el paso de parámetros para técnicas de procesamiento de imágenes.\n",
    "```\n",
    "```plainText\n",
    "Ejemplo:\n",
    "```\n",
    "```py\n",
    "def preprocesar_imagen(imagen, **kwargs):\n",
    "    # Aplicar técnicas de preprocesamiento\n",
    "    return imagen\n",
    "```\n",
    "```plainText\n",
    "Por último, nos permite ajustar parámetros como el número de épocas y el tamaño del lote de manera flexible.\n",
    "```\n",
    "```plainText\n",
    "En conclusión, **kwargs nos permite pasar argumentos con nombre de forma flexible, facilitando la personalización y extensión de funciones.\n",
    "```"
   ]
  }
 ],
 "metadata": {
  "kernelspec": {
   "display_name": "venv",
   "language": "python",
   "name": "python3"
  },
  "language_info": {
   "codemirror_mode": {
    "name": "ipython",
    "version": 3
   },
   "file_extension": ".py",
   "mimetype": "text/x-python",
   "name": "python",
   "nbconvert_exporter": "python",
   "pygments_lexer": "ipython3",
   "version": "3.13.2"
  }
 },
 "nbformat": 4,
 "nbformat_minor": 2
}
