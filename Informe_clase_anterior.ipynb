{
 "cells": [
  {
   "cell_type": "markdown",
   "metadata": {},
   "source": [
    "# **INFORME DE LA CLASE DEL DIA 03/02/2025**"
   ]
  },
  {
   "cell_type": "markdown",
   "metadata": {},
   "source": [
    "## **Los Virtual Environment**"
   ]
  },
  {
   "cell_type": "markdown",
   "metadata": {},
   "source": [
    "### **¿Qué son?**"
   ]
  },
  {
   "cell_type": "markdown",
   "metadata": {},
   "source": [
    "```plainText\n",
    "Es una herramienta que permite mantener las dependencias de un proyecto aisladas de cualquier otro proyecto.\n",
    "Su uso resulta muy útil cuando se trabaja en multiples proyectos que requieren diferentes versiones de paquetes\n",
    "```"
   ]
  },
  {
   "cell_type": "markdown",
   "metadata": {},
   "source": [
    "### **Proceso de Creación de Virtual Environment**"
   ]
  },
  {
   "cell_type": "markdown",
   "metadata": {},
   "source": [
    "```plainText\n",
    "Se inicia creando una carpeta en cualquier parte de la computadora\n",
    "Desde el visual studio code, seleccionar archivo < arbir carpeta < seleccionamos al carpeta que se va utilizar\n",
    "De esta manera ya podemos empezar a almacenar las librerias necesarias para realizar nuestro proyecto\n",
    "```"
   ]
  },
  {
   "cell_type": "markdown",
   "metadata": {},
   "source": [
    "### **Creación de la Carpeta de Librerias**"
   ]
  },
  {
   "cell_type": "markdown",
   "metadata": {},
   "source": [
    "```plainText\n",
    "En mi caso se utilizó la terminal en visual studio code\n",
    "\n",
    "Para crearla vamos esrcibir en aquella terminal el siguiente comando\n",
    "```\n",
    "```py\n",
    "python -m venv venv\n",
    "```\n",
    "```plainText\n",
    "Esto nos  como resultado la creación de una carpeta con el nombre de \"venv\" destinado para el alamacenamiento de las libreriasdaria\n",
    "```"
   ]
  },
  {
   "cell_type": "markdown",
   "metadata": {},
   "source": [
    "### **Activación de Virtual Environments**"
   ]
  },
  {
   "cell_type": "markdown",
   "metadata": {},
   "source": [
    "```plainText\n",
    "Para activar los virtual enviroments se tiene que aplicar el siguiente comando:\n",
    "```\n",
    "```python\n",
    "source venv/Scripts/activate\n",
    "```\n",
    "```plainText\n",
    "De esta manera ya tendriamos activado el virtual environment que vamos a utilizar\n",
    "```"
   ]
  },
  {
   "cell_type": "markdown",
   "metadata": {},
   "source": [
    "### **Asignación e Instalación de Librerias**"
   ]
  },
  {
   "cell_type": "markdown",
   "metadata": {},
   "source": [
    "```plainText\n",
    "En este caso, el docente me proporcionó una lista de librerias que son muy útiles para trabajar con python\n",
    "Me recomendó colocar esta lista en un bloc de notas, el cual llamé requeriments.txt\n",
    "Estas fueron las siguientes: \n",
    "```\n",
    "### Requisitos principales\n",
    "```plainText\n",
    "numpy>=1.21.0,<2           Manipulación de arrays numéricos (compatible con OpenCV)\n",
    "```\n",
    "```plainText\n",
    "opencv-python==4.8.0.74    OpenCV: procesamiento de imágenes\n",
    "```\n",
    "```plainText\n",
    "matplotlib>=3.4.0          Visualización de imágenes y gráficos\n",
    " ```\n",
    "### Jupyter Notebook para análisis y documentación\n",
    "```plainText\n",
    "notebook>=6.4.0            Soporte para Jupyter Notebook\n",
    "``` \n",
    "### Requisitos para pruebas\n",
    "```plainText\n",
    "pytest>=7.0.0              Framework para pruebas\n",
    "```\n",
    "```plainText\n",
    "pytest-mock>=3.10.0        Soporte para mocks en pytest\n",
    "```\n",
    "```plainText\n",
    "unittest-xml-reporting>=3.0.0 Soporte adicional para unittest (opcional)\n",
    "``` \n",
    "### Requisitos para desarrollo\n",
    "```plainText\n",
    "requests>=2.25.0           Para realizar solicitudes HTTP (GitHub, API)\n",
    "```\n",
    "### Requisitos para exportar a otros formatos\n",
    "```plainText\n",
    "jupytext>=1.14.5           Conversión de Jupyter Notebooks a texto plano\n",
    "``` \n",
    "### OpenAI y procesamiento de tokens\n",
    "```plainText\n",
    "openai==0.28               Cliente de OpenAI\n",
    "```\n",
    "```plainText\n",
    "python-dotenv>=0.19.0      Manejo de variables de entorno\n",
    "```\n",
    "```plainText\n",
    "tiktoken==0.8.0            Cálculo de tokens para prompts en OpenAI\n",
    "``` \n",
    "### Google Drive API y autenticación\n",
    "```plainText\n",
    "google-api-python-client>=2.70.0  Cliente para la API de Google Drive\n",
    "```\n",
    "```plainText\n",
    "google-auth>=2.15.0               Manejo de autenticación con Google\n",
    "```\n",
    "```plainText\n",
    "google-auth-oauthlib>=0.5.3       Autenticación OAuth 2.0\n",
    "```\n",
    "```plainText\n",
    "google-auth-httplib2>=0.1.0       Soporte de transporte HTTP para Google Auth\n",
    "``` \n",
    "```plainText \n",
    "ipywidgets>=7.6.3          Widgets interactivos en Jupyter Notebook\n",
    "```"
   ]
  },
  {
   "cell_type": "markdown",
   "metadata": {},
   "source": [
    "```plainText\n",
    "Antes de proceder a instalar las librerias debemos de verificar cuales son las librerias que tenemos instaladas con el siguiente comando:\n",
    "```\n",
    "```py \n",
    "pip list\n",
    "``` \n",
    "```plainText\n",
    "De esta manera mostrará que librerias tenemos instaladas\n",
    "\n",
    "Para instalar cada una de estas aplicamos el siguiente comando para instalar cada una de ellas:\n",
    "```\n",
    "```py\n",
    "pip install -r requeriments.txt\n",
    "```\n",
    "```plainText\n",
    "De esta manera ya se estarán instalando todas las librerias que son necesarias para trabajar.\n",
    "\n",
    "Por último para verificar que esten correctamente instaladas las librerias se vuelve a utilizar el siguiente comando:\n",
    "```\n",
    "```py\n",
    "pip list\n",
    "```\n",
    "```plainText\n",
    "Esto mostrará si ya tenemos las librerias instaladas\n",
    "```"
   ]
  },
  {
   "cell_type": "markdown",
   "metadata": {},
   "source": [
    "```python - venv venv\n",
    "\n",
    "pytest\n",
    "```"
   ]
  }
 ],
 "metadata": {
  "kernelspec": {
   "display_name": "venv",
   "language": "python",
   "name": "python3"
  },
  "language_info": {
   "codemirror_mode": {
    "name": "ipython",
    "version": 3
   },
   "file_extension": ".py",
   "mimetype": "text/x-python",
   "name": "python",
   "nbconvert_exporter": "python",
   "pygments_lexer": "ipython3",
   "version": "3.13.2"
  }
 },
 "nbformat": 4,
 "nbformat_minor": 2
}
