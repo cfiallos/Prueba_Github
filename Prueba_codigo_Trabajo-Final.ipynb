{
 "cells": [
  {
   "cell_type": "code",
   "execution_count": 1,
   "metadata": {},
   "outputs": [],
   "source": [
    "#Con IA\n",
    "import cv2\n",
    "import tkinter as tk\n",
    "from tkinter import filedialog\n",
    "from IPython.display import Image, display\n",
    "\n",
    "# Función para seleccionar una imagen\n",
    "def seleccionar_imagen():\n",
    "    root = tk.Tk()\n",
    "    root.withdraw()  # Oculta la ventana principal\n",
    "    ruta_imagen = filedialog.askopenfilename()\n",
    "    return ruta_imagen\n",
    "\n",
    "# Selecciona la imagen y la muestra en el notebook\n",
    "ruta_imagen = seleccionar_imagen()\n",
    "if ruta_imagen:\n",
    "    # Lee la imagen\n",
    "    imagen = cv2.imread(ruta_imagen)\n",
    "    # Convierte la imagen de BGR a RGB\n",
    "    imagen_rgb = cv2.cvtColor(imagen, cv2.COLOR_BGR2RGB)\n",
    "    # Guarda la imagen convertida para mostrarla en el notebook\n",
    "    cv2.imwrite('imagen_seleccionada.jpg', imagen_rgb)\n",
    "    # Muestra la imagen en el notebook\n",
    "    display(Image(filename='imagen_seleccionada.jpg'))\n",
    "else:\n",
    "    print(\"No se seleccionó ninguna imagen.\")"
   ]
  }
 ],
 "metadata": {
  "kernelspec": {
   "display_name": "venv",
   "language": "python",
   "name": "python3"
  },
  "language_info": {
   "codemirror_mode": {
    "name": "ipython",
    "version": 3
   },
   "file_extension": ".py",
   "mimetype": "text/x-python",
   "name": "python",
   "nbconvert_exporter": "python",
   "pygments_lexer": "ipython3",
   "version": "3.13.2"
  }
 },
 "nbformat": 4,
 "nbformat_minor": 2
}
