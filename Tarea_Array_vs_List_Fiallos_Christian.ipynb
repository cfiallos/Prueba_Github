{
  "cells": [
    {
      "cell_type": "markdown",
      "metadata": {
        "id": "ihflK-wjM_0E"
      },
      "source": [
        "# **Diferencias entre List y Array en Python**"
      ]
    },
    {
      "cell_type": "markdown",
      "metadata": {
        "id": "YFoALrkORFN0"
      },
      "source": [
        "## ESTRUCTURA Y TIPO DE DATOS"
      ]
    },
    {
      "cell_type": "markdown",
      "metadata": {
        "id": "K-8Tq11MXIT-"
      },
      "source": [
        "### ESTRUCTURA DE DATOS CON LIST"
      ]
    },
    {
      "cell_type": "markdown",
      "metadata": {
        "colab": {
          "base_uri": "https://localhost:8080/"
        },
        "id": "04K437A8M_VU",
        "outputId": "cab82aa8-2d75-4449-ea53-32c9f5b3b403"
      },
      "source": [
        "```plainText\n",
        "Crea una lista con los valores asignados y con el metodo append se agrega un valor al final\n",
        "```\n",
        "```plainText\n",
        "Crear una lista de enteros (tamaño dinámico)\n",
        "```\n",
        "```py\n",
        "lista = [1, 2, 3]  # Puede contener diferentes tipos\n",
        "lista.append(4)    # Agregar un elemento\n",
        "print(lista)       # Salida: [1, 2, 3, 4]\n",
        "```"
      ]
    },
    {
      "cell_type": "markdown",
      "metadata": {
        "id": "m7Z5LxRUXIIs"
      },
      "source": [
        "### ESTRUCTURA DE DATOS CON ARRAY"
      ]
    },
    {
      "cell_type": "markdown",
      "metadata": {
        "colab": {
          "base_uri": "https://localhost:8080/"
        },
        "id": "VtpSCiZdYvuV",
        "outputId": "d34f93f8-07fc-47b0-8a4b-dc74b04bd624"
      },
      "source": [
        "```py\n",
        "import array\n",
        "```\n",
        "```plainText\n",
        "Se Importa la biblioteca Array y para crear un arreglo de enteros\n",
        "```\n",
        "```plainText\n",
        "Crear un array de enteros (tamaño fijo)\n",
        "```\n",
        "```py\n",
        "arr = array.array('i', [1, 2, 3])  # Solo puede contener enteros\n",
        "print(arr[0])  # Acceso al primer elemento: 1\n",
        "```"
      ]
    },
    {
      "cell_type": "markdown",
      "metadata": {
        "id": "wirRZEVTZj6k"
      },
      "source": [
        "## FLEXIBILIDAD"
      ]
    },
    {
      "cell_type": "markdown",
      "metadata": {
        "id": "QBn636XcaUkP"
      },
      "source": [
        "### FLEXIBILIDAD CON LIST"
      ]
    },
    {
      "cell_type": "markdown",
      "metadata": {
        "colab": {
          "base_uri": "https://localhost:8080/"
        },
        "id": "UhEJNgDZaJPs",
        "outputId": "32429860-2e6c-4caa-d4f0-98becc4bd42d"
      },
      "source": [
        "```plainText\n",
        "Esta lista se puede modificar facilmente lo que demuestra su flexibilidad\n",
        "```\n",
        "```plainText\n",
        "Crear una lista de enteros (tamaño dinámico)\n",
        "```\n",
        "```py\n",
        "lista = [1, 2, 3]\n",
        "lista.append(4)  # Se puede agregar un elemento sin problemas\n",
        "print(lista)      # Salida: [1, 2, 3, 4]\n",
        "```"
      ]
    },
    {
      "cell_type": "markdown",
      "metadata": {
        "id": "qskvh7V5Z_gd"
      },
      "source": [
        "### FLEXIBILIDAD CON ARRAY"
      ]
    },
    {
      "cell_type": "markdown",
      "metadata": {
        "colab": {
          "base_uri": "https://localhost:8080/"
        },
        "id": "3YE6FNqYaJat",
        "outputId": "5c688d1c-bb4c-406c-8296-27e7a8047a8d"
      },
      "source": [
        "```plaintext\n",
        "Al ser de un tamaño fijo este no se puede modificar y es necesario crear otro\n",
        "```\n",
        "```plainText\n",
        "Crear un array de enteros (tamaño fijo)\n",
        "```\n",
        "```py\n",
        "arr = array.array('i', [1, 2, 3])  # No se puede cambiar el tamaño\n",
        "print(arr[2])\n",
        "```\n",
        "```plainText\n",
        "Para agregar más elementos, se necesita crear un nuevo array\n",
        "```"
      ]
    },
    {
      "cell_type": "markdown",
      "metadata": {
        "id": "DfM01szEdZVq"
      },
      "source": [
        "## RENDIMIENTOS"
      ]
    },
    {
      "cell_type": "markdown",
      "metadata": {
        "id": "4uqjvK0bdZu8"
      },
      "source": [
        "### RENDIMIENTO CON LIST"
      ]
    },
    {
      "cell_type": "markdown",
      "metadata": {
        "colab": {
          "base_uri": "https://localhost:8080/"
        },
        "id": "OGDQlRUAecjN",
        "outputId": "50e2c9c9-a999-49a1-d641-f5d07d4d4728"
      },
      "source": [
        "```plainText\n",
        "Su Acceso a elementos en una lista (ligeramente más lento)\n",
        "```\n",
        "```py\n",
        "lista = [1, 2, 3]\n",
        "print(lista[1])  # Acceso al segundo elemento: 2\n",
        "```"
      ]
    },
    {
      "cell_type": "markdown",
      "metadata": {
        "id": "iUWNRqS4daE6"
      },
      "source": [
        "### RENDIMIENTO CON ARRAY"
      ]
    },
    {
      "cell_type": "markdown",
      "metadata": {
        "colab": {
          "base_uri": "https://localhost:8080/"
        },
        "id": "ZLZgFCvZebVq",
        "outputId": "c6bd07e2-2280-46be-d31e-26f841621dd4"
      },
      "source": [
        "```plainText\n",
        "Su Acceso a elementos en un array (rápido)\n",
        "```\n",
        "```py\n",
        "arr = array.array('i', [1, 2, 3])\n",
        "print(arr[1])  # Acceso al segundo elemento: 2\n",
        "```"
      ]
    },
    {
      "cell_type": "markdown",
      "metadata": {
        "id": "T01NLOaMfpa0"
      },
      "source": [
        "## METODOS Y FUNCIONALIDADES"
      ]
    },
    {
      "cell_type": "markdown",
      "metadata": {
        "id": "Hcr9DaKWfrDA"
      },
      "source": [
        "### METODOS Y FUNCIONALIDADES CON LIST"
      ]
    },
    {
      "cell_type": "markdown",
      "metadata": {
        "colab": {
          "base_uri": "https://localhost:8080/"
        },
        "id": "R4BLte9OgLhj",
        "outputId": "2c640635-bee6-44b6-d8d8-bb68aa579401"
      },
      "source": [
        "```plainText\n",
        "Se pueden utilizar métodos útiles en una lista\n",
        "```\n",
        "```py\n",
        "lista = [1, 2, 3]\n",
        "lista.remove(2)  # Eliminar un elemento\n",
        "print(lista)      # Salida: [1, 3]\n",
        "```"
      ]
    },
    {
      "cell_type": "markdown",
      "metadata": {
        "id": "hn87te_PfrJR"
      },
      "source": [
        "### METODOS Y FUNCIONALIDADES CON ARRAY"
      ]
    },
    {
      "cell_type": "markdown",
      "metadata": {
        "colab": {
          "base_uri": "https://localhost:8080/"
        },
        "id": "ImgTcy1xgLY-",
        "outputId": "b31f662f-c1af-4280-eae4-2756c7f62d80"
      },
      "source": [
        "```plainText\n",
        "Solo se permiten operaciones limitadas en un array\n",
        "```\n",
        "```py\n",
        "arr = array.array('i', [1, 2, 3])\n",
        "print(arr)  # Solo permite acceso y asignación\n",
        "```"
      ]
    }
  ],
  "metadata": {
    "colab": {
      "provenance": []
    },
    "kernelspec": {
      "display_name": "Python 3",
      "name": "python3"
    },
    "language_info": {
      "name": "python"
    }
  },
  "nbformat": 4,
  "nbformat_minor": 0
}
