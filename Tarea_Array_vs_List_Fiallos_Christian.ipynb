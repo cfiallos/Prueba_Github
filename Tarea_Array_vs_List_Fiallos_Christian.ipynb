{
  "nbformat": 4,
  "nbformat_minor": 0,
  "metadata": {
    "colab": {
      "provenance": []
    },
    "kernelspec": {
      "name": "python3",
      "display_name": "Python 3"
    },
    "language_info": {
      "name": "python"
    }
  },
  "cells": [
    {
      "cell_type": "markdown",
      "source": [
        "#**Diferencias entre List y Array en Python**"
      ],
      "metadata": {
        "id": "ihflK-wjM_0E"
      }
    },
    {
      "cell_type": "markdown",
      "source": [
        "##ESTRUCTURA Y TIPO DE DATOS"
      ],
      "metadata": {
        "id": "YFoALrkORFN0"
      }
    },
    {
      "cell_type": "markdown",
      "source": [
        "###ESTRUCTURA DE DATOS CON LIST"
      ],
      "metadata": {
        "id": "K-8Tq11MXIT-"
      }
    },
    {
      "cell_type": "code",
      "execution_count": null,
      "metadata": {
        "colab": {
          "base_uri": "https://localhost:8080/"
        },
        "id": "04K437A8M_VU",
        "outputId": "cab82aa8-2d75-4449-ea53-32c9f5b3b403"
      },
      "outputs": [
        {
          "output_type": "stream",
          "name": "stdout",
          "text": [
            "[1, 2, 3, 4]\n"
          ]
        }
      ],
      "source": [
        "#Crea una lista con los valores asignados y con el metodo append se agrega un valor al final\n",
        "# Crear una lista de enteros (tamaño dinámico)\n",
        "lista = [1, 2, 3]  # Puede contener diferentes tipos\n",
        "lista.append(4)    # Agregar un elemento\n",
        "print(lista)       # Salida: [1, 2, 3, 4]"
      ]
    },
    {
      "cell_type": "markdown",
      "source": [
        "###ESTRUCTURA DE DATOS CON ARRAY"
      ],
      "metadata": {
        "id": "m7Z5LxRUXIIs"
      }
    },
    {
      "cell_type": "code",
      "source": [
        "import array\n",
        "#Se Importa la biblioteca Array y para crear un arreglo de enteros\n",
        "# Crear un array de enteros (tamaño fijo)\n",
        "arr = array.array('i', [1, 2, 3])  # Solo puede contener enteros\n",
        "print(arr[0])  # Acceso al primer elemento: 1"
      ],
      "metadata": {
        "colab": {
          "base_uri": "https://localhost:8080/"
        },
        "id": "VtpSCiZdYvuV",
        "outputId": "d34f93f8-07fc-47b0-8a4b-dc74b04bd624"
      },
      "execution_count": null,
      "outputs": [
        {
          "output_type": "stream",
          "name": "stdout",
          "text": [
            "1\n"
          ]
        }
      ]
    },
    {
      "cell_type": "code",
      "source": [],
      "metadata": {
        "id": "qkSR2pY6g2uw"
      },
      "execution_count": null,
      "outputs": []
    },
    {
      "cell_type": "markdown",
      "source": [
        "##FLEXIBILIDAD"
      ],
      "metadata": {
        "id": "wirRZEVTZj6k"
      }
    },
    {
      "cell_type": "markdown",
      "source": [
        "###FLEXIBILIDAD CON LIST"
      ],
      "metadata": {
        "id": "QBn636XcaUkP"
      }
    },
    {
      "cell_type": "code",
      "source": [
        "#Esta lista se puede modificar facilmente lo que demuestra su flexibilidad\n",
        "# Crear una lista de enteros (tamaño dinámico)\n",
        "lista = [1, 2, 3]\n",
        "lista.append(4)  # Se puede agregar un elemento sin problemas\n",
        "print(lista)      # Salida: [1, 2, 3, 4]"
      ],
      "metadata": {
        "colab": {
          "base_uri": "https://localhost:8080/"
        },
        "id": "UhEJNgDZaJPs",
        "outputId": "32429860-2e6c-4caa-d4f0-98becc4bd42d"
      },
      "execution_count": null,
      "outputs": [
        {
          "output_type": "stream",
          "name": "stdout",
          "text": [
            "[1, 2, 3, 4]\n"
          ]
        }
      ]
    },
    {
      "cell_type": "markdown",
      "source": [
        "###FLEXIBILIDAD CON ARRAY"
      ],
      "metadata": {
        "id": "qskvh7V5Z_gd"
      }
    },
    {
      "cell_type": "code",
      "source": [
        "#Al ser de un tamaño fijo este no se puede modificar y es necesario crear otro\n",
        "# Crear un array de enteros (tamaño fijo)\n",
        "arr = array.array('i', [1, 2, 3])  # No se puede cambiar el tamaño\n",
        "print(arr[2])\n",
        "# Para agregar más elementos, se necesita crear un nuevo array"
      ],
      "metadata": {
        "colab": {
          "base_uri": "https://localhost:8080/"
        },
        "id": "3YE6FNqYaJat",
        "outputId": "5c688d1c-bb4c-406c-8296-27e7a8047a8d"
      },
      "execution_count": null,
      "outputs": [
        {
          "output_type": "stream",
          "name": "stdout",
          "text": [
            "3\n"
          ]
        }
      ]
    },
    {
      "cell_type": "markdown",
      "source": [
        "##RENDIMIENTO"
      ],
      "metadata": {
        "id": "DfM01szEdZVq"
      }
    },
    {
      "cell_type": "markdown",
      "source": [
        "###RENDIMIENTO CON LIST"
      ],
      "metadata": {
        "id": "4uqjvK0bdZu8"
      }
    },
    {
      "cell_type": "code",
      "source": [
        "# Su Acceso a elementos en una lista (ligeramente más lento)\n",
        "lista = [1, 2, 3]\n",
        "print(lista[1])  # Acceso al segundo elemento: 2"
      ],
      "metadata": {
        "colab": {
          "base_uri": "https://localhost:8080/"
        },
        "id": "OGDQlRUAecjN",
        "outputId": "50e2c9c9-a999-49a1-d641-f5d07d4d4728"
      },
      "execution_count": null,
      "outputs": [
        {
          "output_type": "stream",
          "name": "stdout",
          "text": [
            "2\n"
          ]
        }
      ]
    },
    {
      "cell_type": "markdown",
      "source": [
        "###RENDIMIENTO CON ARRAY"
      ],
      "metadata": {
        "id": "iUWNRqS4daE6"
      }
    },
    {
      "cell_type": "code",
      "source": [
        "\n",
        "# Su Acceso a elementos en un array (rápido)\n",
        "arr = array.array('i', [1, 2, 3])\n",
        "print(arr[1])  # Acceso al segundo elemento: 2"
      ],
      "metadata": {
        "colab": {
          "base_uri": "https://localhost:8080/"
        },
        "id": "ZLZgFCvZebVq",
        "outputId": "c6bd07e2-2280-46be-d31e-26f841621dd4"
      },
      "execution_count": null,
      "outputs": [
        {
          "output_type": "stream",
          "name": "stdout",
          "text": [
            "2\n"
          ]
        }
      ]
    },
    {
      "cell_type": "markdown",
      "source": [
        "##METODOS Y FUNCIONALIDADES"
      ],
      "metadata": {
        "id": "T01NLOaMfpa0"
      }
    },
    {
      "cell_type": "markdown",
      "source": [
        "###METODOS Y FUNCIONALIDADES CON LIST"
      ],
      "metadata": {
        "id": "Hcr9DaKWfrDA"
      }
    },
    {
      "cell_type": "code",
      "source": [
        "# Se pueden utilizar métodos útiles en una lista\n",
        "lista = [1, 2, 3]\n",
        "lista.remove(2)  # Eliminar un elemento\n",
        "print(lista)      # Salida: [1, 3]\n"
      ],
      "metadata": {
        "colab": {
          "base_uri": "https://localhost:8080/"
        },
        "id": "R4BLte9OgLhj",
        "outputId": "2c640635-bee6-44b6-d8d8-bb68aa579401"
      },
      "execution_count": null,
      "outputs": [
        {
          "output_type": "stream",
          "name": "stdout",
          "text": [
            "[1, 3]\n"
          ]
        }
      ]
    },
    {
      "cell_type": "markdown",
      "source": [
        "###METODOS Y FUNCIONALIDADES CON ARRAY"
      ],
      "metadata": {
        "id": "hn87te_PfrJR"
      }
    },
    {
      "cell_type": "code",
      "source": [
        "# Solo se permiten operaciones limitadas en un array\n",
        "arr = array.array('i', [1, 2, 3])\n",
        "print(arr)  # Solo permite acceso y asignación"
      ],
      "metadata": {
        "colab": {
          "base_uri": "https://localhost:8080/"
        },
        "id": "ImgTcy1xgLY-",
        "outputId": "b31f662f-c1af-4280-eae4-2756c7f62d80"
      },
      "execution_count": null,
      "outputs": [
        {
          "output_type": "stream",
          "name": "stdout",
          "text": [
            "array('i', [1, 2, 3])\n"
          ]
        }
      ]
    }
  ]
}