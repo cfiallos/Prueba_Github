{
  "cells": [
    {
      "cell_type": "markdown",
      "metadata": {
        "id": "IFqzeg4g-Oo_"
      },
      "source": [
        "#**Regex y Split**"
      ]
    },
    {
      "cell_type": "markdown",
      "metadata": {
        "id": "yL-c24k3DaYV"
      },
      "source": [
        "#**Expresiones Regulares (Regex)**\n",
        "\n",
        "\n",
        "\n"
      ]
    },
    {
      "cell_type": "code",
      "execution_count": null,
      "metadata": {
        "id": "XAGHPp-WFCcP"
      },
      "outputs": [],
      "source": [
        "#Las expresiones regulares son secuencias de caracteres que forman un patrón de\n",
        "#búsqueda. Se utilizan para buscar, coincidir y manipular texto. En Python,\n",
        "#re proporciona funciones para trabajar con expresiones regulares. el módulo"
      ]
    },
    {
      "cell_type": "markdown",
      "metadata": {
        "id": "UiDGFijGDyw-"
      },
      "source": [
        "##**Funciones Comunes de Regex**"
      ]
    },
    {
      "cell_type": "markdown",
      "metadata": {
        "id": "YSqh0_ZsDzxd"
      },
      "source": [
        "###re.search(pattern, string)"
      ]
    },
    {
      "cell_type": "code",
      "execution_count": null,
      "metadata": {
        "colab": {
          "base_uri": "https://localhost:8080/"
        },
        "id": "1UbTDItZ6Rl1",
        "outputId": "6362c9df-effb-42d1-9ace-68dcde3ccef8"
      },
      "outputs": [
        {
          "name": "stdout",
          "output_type": "stream",
          "text": [
            "42\n"
          ]
        }
      ],
      "source": [
        "#Busca el primer lugar donde el patrón coincide con la cadena.\n",
        "#Devuelve un objeto de coincidencia o None si no hay coincidencias.\n",
        "\n",
        "import re\n",
        "resultado = re.search(r'\\d+', 'El número es 42')\n",
        "if resultado:\n",
        "    print(resultado.group())  # Salida: 42"
      ]
    },
    {
      "cell_type": "markdown",
      "metadata": {
        "id": "_DBSUFyYEaO3"
      },
      "source": [
        "###re.match(pattern, string)"
      ]
    },
    {
      "cell_type": "code",
      "execution_count": null,
      "metadata": {
        "colab": {
          "base_uri": "https://localhost:8080/"
        },
        "id": "cfiHcelZEpOD",
        "outputId": "28ddd75c-5500-465a-a981-f36fbe4e92a5"
      },
      "outputs": [
        {
          "name": "stdout",
          "output_type": "stream",
          "text": [
            "El\n"
          ]
        }
      ],
      "source": [
        "#Comprueba si el patrón coincide al principio de la cadena.\n",
        "#Devuelve un objeto de coincidencia o None.\n",
        "\n",
        "resultado = re.match(r'El', 'El número es 42')\n",
        "if resultado:\n",
        "    print(resultado.group())  # Salida: El"
      ]
    },
    {
      "cell_type": "markdown",
      "metadata": {
        "id": "EtD6OLGsFa2d"
      },
      "source": [
        "###re.findall(pattern, string)"
      ]
    },
    {
      "cell_type": "code",
      "execution_count": null,
      "metadata": {
        "colab": {
          "base_uri": "https://localhost:8080/"
        },
        "id": "g7gaPVD6DzDS",
        "outputId": "c28b20aa-3d28-406e-c6f3-9e01413e0b40"
      },
      "outputs": [
        {
          "name": "stdout",
          "output_type": "stream",
          "text": [
            "['2', '3']\n"
          ]
        }
      ],
      "source": [
        "#Devuelve una lista de todas las coincidencias del patrón en la cadena.\n",
        "\n",
        "numeros = re.findall(r'\\d+', 'Hay 2 gatos y 3 perros')\n",
        "print(numeros)  # Salida: ['2', '3']"
      ]
    },
    {
      "cell_type": "markdown",
      "metadata": {
        "id": "bAjmaXKJEH-S"
      },
      "source": [
        "###re.sub(pattern, repl, string)"
      ]
    },
    {
      "cell_type": "code",
      "execution_count": null,
      "metadata": {
        "id": "90iUAorxEGpR"
      },
      "outputs": [],
      "source": [
        "#Reemplaza las coincidencias del patrón en la cadena con una nueva cadena.\n",
        "\n",
        "texto = 'El cielo es azul'\n",
        "nuevo_texto = re.sub(r'azul', 'rojo', texto)\n",
        "print(nuevo_texto)  # Salida: El cielo es rojo"
      ]
    },
    {
      "cell_type": "markdown",
      "metadata": {
        "id": "nzAqzLGhGG98"
      },
      "source": [
        "###re.split(pattern, string)"
      ]
    },
    {
      "cell_type": "code",
      "execution_count": null,
      "metadata": {
        "id": "MofmQmChGGEV"
      },
      "outputs": [],
      "source": [
        "#Divide la cadena en una lista utilizando el patrón como delimitador.\n",
        "\n",
        "partes = re.split(r'\\s+', 'Esto es un   texto con   espacios')\n",
        "print(partes)  # Salida: ['Esto', 'es', 'un', 'texto', 'con', 'espacios']"
      ]
    },
    {
      "cell_type": "markdown",
      "metadata": {
        "id": "A-CEVVpQGF-0"
      },
      "source": [
        "###Caracteres Especiales en Regex"
      ]
    },
    {
      "cell_type": "code",
      "execution_count": null,
      "metadata": {
        "id": "6vhSXvr8GFxJ"
      },
      "outputs": [],
      "source": [
        "#.: Coincide con cualquier carácter excepto un salto de línea.\n",
        "\n",
        "#^: Coincide con el inicio de la cadena.\n",
        "\n",
        "#$: Coincide con el final de la cadena.\n",
        "\n",
        "#*: Coincide con 0 o más repeticiones del patrón anterior.\n",
        "\n",
        "#+: Coincide con 1 o más repeticiones del patrón anterior.\n",
        "\n",
        "#?: Coincide con 0 o 1 repetición del patrón anterior.\n",
        "\n",
        "#{n}: Coincide exactamente con n repeticiones del patrón anterior.\n",
        "\n",
        "#{n, m}: Coincide con entre n y m repeticiones del patrón anterior.\n",
        "\n",
        "#[]: Coincide con cualquier carácter dentro de los corchetes.\n",
        "\n",
        "#|: Operador OR, coincide con el patrón a la izquierda o a la derecha.\n",
        "\n",
        "#\\: Escapa caracteres especiales."
      ]
    },
    {
      "cell_type": "markdown",
      "metadata": {
        "id": "Ze3Wa6NUGFqd"
      },
      "source": [
        "#**Método Split**"
      ]
    },
    {
      "cell_type": "markdown",
      "metadata": {
        "id": "66TfuhEAG-Dh"
      },
      "source": [
        "#**Uso del Método Split**"
      ]
    },
    {
      "cell_type": "markdown",
      "metadata": {
        "id": "LnVIgwnaHRjz"
      },
      "source": [
        "###Dividir una cadena simple"
      ]
    },
    {
      "cell_type": "code",
      "execution_count": null,
      "metadata": {
        "colab": {
          "base_uri": "https://localhost:8080/"
        },
        "id": "7WTfwVMcHRfv",
        "outputId": "eac0eb3d-91dd-44fc-adb2-33bc8043a71b"
      },
      "outputs": [
        {
          "name": "stdout",
          "output_type": "stream",
          "text": [
            "['manzana', 'banana', 'naranja']\n"
          ]
        }
      ],
      "source": [
        "texto = \"manzana,banana,naranja\"\n",
        "frutas = texto.split(',')\n",
        "print(frutas)  # Salida: ['manzana', 'banana', 'naranja']"
      ]
    },
    {
      "cell_type": "markdown",
      "metadata": {
        "id": "Qsfb6JJ2HRUD"
      },
      "source": [
        "###Dividir con un límite"
      ]
    },
    {
      "cell_type": "code",
      "execution_count": null,
      "metadata": {
        "colab": {
          "base_uri": "https://localhost:8080/"
        },
        "id": "0a0B4ScLHROw",
        "outputId": "f6bcfe9d-551c-45cf-aba8-879865d97a2a"
      },
      "outputs": [
        {
          "name": "stdout",
          "output_type": "stream",
          "text": [
            "['uno', 'dos', 'tres,cuatro']\n"
          ]
        }
      ],
      "source": [
        "texto = \"uno,dos,tres,cuatro\"\n",
        "partes = texto.split(',', 2)  # Limita a 2 divisiones\n",
        "print(partes)  # Salida: ['uno', 'dos', 'tres,cuatro']"
      ]
    },
    {
      "cell_type": "markdown",
      "metadata": {
        "id": "wkZaJC9fHRJ_"
      },
      "source": [
        "###Dividir por espacios"
      ]
    },
    {
      "cell_type": "code",
      "execution_count": null,
      "metadata": {
        "colab": {
          "base_uri": "https://localhost:8080/"
        },
        "id": "Ya5NKTPWHRGG",
        "outputId": "41f09631-2232-4d4e-a29d-4b39a9603b2d"
      },
      "outputs": [
        {
          "name": "stdout",
          "output_type": "stream",
          "text": [
            "['Hola', 'mundo']\n"
          ]
        }
      ],
      "source": [
        "texto = \"Hola mundo\"\n",
        "palabras = texto.split()  # Por defecto divide por espacios\n",
        "print(palabras)  # Salida: ['Hola', 'mundo']"
      ]
    },
    {
      "cell_type": "markdown",
      "metadata": {
        "id": "rNd15beGHRBn"
      },
      "source": [
        "##**Uso de re.split**"
      ]
    },
    {
      "cell_type": "code",
      "execution_count": null,
      "metadata": {
        "id": "kclzbUbgHQ9A"
      },
      "outputs": [],
      "source": [
        "#El método re.split permite dividir cadenas utilizando expresiones regulares como\n",
        "#delimitadores, lo que proporciona más flexibilidad."
      ]
    },
    {
      "cell_type": "markdown",
      "metadata": {
        "id": "X-s-GWUmHQp2"
      },
      "source": [
        "###Ejemplo de re.split"
      ]
    },
    {
      "cell_type": "code",
      "execution_count": null,
      "metadata": {
        "colab": {
          "base_uri": "https://localhost:8080/"
        },
        "id": "gHQjlzevGHgL",
        "outputId": "fcd785f5-3f02-426f-edee-65fa36525123"
      },
      "outputs": [
        {
          "name": "stdout",
          "output_type": "stream",
          "text": [
            "['uno', 'dos', 'tres', 'cuatro']\n"
          ]
        }
      ],
      "source": [
        "import re\n",
        "\n",
        "texto = \"uno;dos,tres;cuatro\"\n",
        "partes = re.split(r'[;,]', texto)  # Divide por ; o ,\n",
        "print(partes)  # Salida: ['uno', 'dos', 'tres', 'cuatro']"
      ]
    }
  ],
  "metadata": {
    "colab": {
      "provenance": []
    },
    "kernelspec": {
      "display_name": "Python 3",
      "name": "python3"
    },
    "language_info": {
      "name": "python"
    }
  },
  "nbformat": 4,
  "nbformat_minor": 0
}
