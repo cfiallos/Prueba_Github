{
  "cells": [
    {
      "cell_type": "markdown",
      "metadata": {
        "id": "Zb9ODDXfkmXB"
      },
      "source": [
        "##RETO BASICO PYTHON"
      ]
    },
    {
      "cell_type": "markdown",
      "metadata": {
        "id": "oZwJkLsFk3BB"
      },
      "source": [
        "####Escribe un programa en Python que solicite al usuario un número entero y determine si es par o impar"
      ]
    },
    {
      "cell_type": "code",
      "execution_count": null,
      "metadata": {
        "colab": {
          "base_uri": "https://localhost:8080/"
        },
        "id": "PgFv68v8klIX",
        "outputId": "e3f5e0bd-586b-428d-bc08-014686a45dc1"
      },
      "outputs": [
        {
          "name": "stdout",
          "output_type": "stream",
          "text": [
            "||==================================||\n",
            "Bienvenido a mi Programa\n",
            "Ingrese culaquier numero entero:\n",
            "2\n",
            "El numero 2 es un numero par\n",
            "¡Muchas Gracias Por Utilizar mi Programa!\n",
            "||==================================||\n"
          ]
        }
      ],
      "source": [
        "print(\"||==================================||\")\n",
        "print(\"Bienvenido a mi Programa\")\n",
        "#Variable y la entrada del programa\n",
        "num = int(input(\"Ingrese culaquier numero entero:\\n\"))\n",
        "#Aqui se va determinar si el numero entero es par o impar\n",
        "if num %2 == 0:\n",
        "    print(f\"El numero {num} es un numero par\")\n",
        "else:\n",
        "    print(f\"El numero {num} es un numero impar\")\n",
        "print(\"¡Muchas Gracias Por Utilizar mi Programa!\")\n",
        "print(\"||==================================||\")"
      ]
    }
  ],
  "metadata": {
    "colab": {
      "provenance": []
    },
    "kernelspec": {
      "display_name": "venv",
      "language": "python",
      "name": "python3"
    },
    "language_info": {
      "name": "python",
      "version": "3.13.1"
    }
  },
  "nbformat": 4,
  "nbformat_minor": 0
}
