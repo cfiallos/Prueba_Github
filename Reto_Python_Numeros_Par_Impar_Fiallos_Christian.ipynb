{
  "cells": [
    {
      "cell_type": "markdown",
      "metadata": {
        "id": "Zb9ODDXfkmXB"
      },
      "source": [
        "## **RETO BASICO PYTHON**"
      ]
    },
    {
      "cell_type": "markdown",
      "metadata": {
        "id": "oZwJkLsFk3BB"
      },
      "source": [
        "#### Escribe un programa en Python que solicite al usuario un número entero y determine si es par o impar"
      ]
    },
    {
      "cell_type": "markdown",
      "metadata": {
        "colab": {
          "base_uri": "https://localhost:8080/"
        },
        "id": "PgFv68v8klIX",
        "outputId": "e3f5e0bd-586b-428d-bc08-014686a45dc1"
      },
      "source": [
        "```plainText\n",
        "Bienvenida al Programa\n",
        "```\n",
        "```py\n",
        "print(\"||==================================||\")\n",
        "print(\"Bienvenido a mi Programa\")\n",
        "```\n",
        "```plainText\n",
        "Variable y la entrada del programa\n",
        "```\n",
        "```py\n",
        "num = int(input(\"Ingrese culaquier numero entero:\\n\"))\n",
        "```\n",
        "```plainText\n",
        "Aqui se va determinar si el numero entero es par o impar\n",
        "```\n",
        "```py\n",
        "if num %2 == 0:\n",
        "    print(f\"El numero {num} es un numero par\")\n",
        "else:\n",
        "    print(f\"El numero {num} es un numero impar\")\n",
        "print(\"¡Muchas Gracias Por Utilizar mi Programa!\")\n",
        "print(\"||==================================||\")\n",
        "```"
      ]
    }
  ],
  "metadata": {
    "colab": {
      "provenance": []
    },
    "kernelspec": {
      "display_name": "venv",
      "language": "python",
      "name": "python3"
    },
    "language_info": {
      "name": "python",
      "version": "3.13.2"
    }
  },
  "nbformat": 4,
  "nbformat_minor": 0
}
