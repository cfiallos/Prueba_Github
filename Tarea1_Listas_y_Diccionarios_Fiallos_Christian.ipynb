{
  "cells": [
    {
      "cell_type": "markdown",
      "metadata": {
        "id": "60nMDYqFfFxC"
      },
      "source": [
        "# **Listas y Diccionarios de Python**"
      ]
    },
    {
      "cell_type": "markdown",
      "metadata": {
        "id": "oEUjoACOrmcD"
      },
      "source": [
        "# Listas en Python"
      ]
    },
    {
      "cell_type": "markdown",
      "metadata": {
        "id": "-bR37r8Pfa8C"
      },
      "source": [
        "## ¿Cómo se Debe Iniciar una Lista?"
      ]
    },
    {
      "cell_type": "markdown",
      "metadata": {
        "id": "Cz5XBCX5k1Do"
      },
      "source": [
        "### Estructura Principal de una Lista con y sin Elementos"
      ]
    },
    {
      "cell_type": "markdown",
      "metadata": {
        "colab": {
          "base_uri": "https://localhost:8080/"
        },
        "id": "eLyANJ_pk6BK",
        "outputId": "d4ff3472-d205-4cfc-a2af-787e6011fcb3"
      },
      "source": [
        "```plainText\n",
        "PRINCIPAL ESTRUCTURA PARA DECLARAR UNA LISTA\n",
        "```\n",
        "```py\n",
        "my_list = list()\n",
        "my_list = []\n",
        "```\n",
        "```plainText\n",
        "ESTRUCTURA CON ELEMENTOS PREDEFINIDOS\n",
        "```\n",
        "```py\n",
        "my_list = list([7,6,3,4])\n",
        "my_list2 = ['a', 'x', 'd']\n",
        "\n",
        "print(my_list)\n",
        "print(my_list2)\n",
        "```"
      ]
    },
    {
      "cell_type": "markdown",
      "metadata": {
        "id": "084RNGfEl6GA"
      },
      "source": [
        "### Ejemplo de Uso de las Lista"
      ]
    },
    {
      "cell_type": "markdown",
      "metadata": {
        "colab": {
          "base_uri": "https://localhost:8080/"
        },
        "id": "FpYs-n2Xl52a",
        "outputId": "60311b15-c3ba-4f1f-c66e-f2ea68408e41"
      },
      "source": [
        "```plainText\n",
        "EJEMEPLO DEL USO DE LAS LISTAS\n",
        "```\n",
        "```py\n",
        "print(\"Ejemplo de creación de Listas\")\n",
        "my_list = list([7,6,3,4])\n",
        "```\n",
        "```plainText\n",
        "Mostrará el primer valor de la lista que es 7\n",
        "```\n",
        "```py\n",
        "print(my_list[0])\n",
        "```\n",
        "```plainText\n",
        "Mostrará el segundo valor de la lista que es 6\n",
        "```\n",
        "```py\n",
        "print(my_list[1])\n",
        "```\n",
        "```plainText\n",
        "USO DE BUCLES PARA MOSTRAR TODOS LOS VALORES\n",
        "```\n",
        "```py \n",
        "my_list = [7, 5, 9, 2, 3, 4]\n",
        "print(\"Ejemplo de aplicación de los Bucles en Listas\")\n",
        "for value in my_list:\n",
        "    print(value)\n",
        "```"
      ]
    },
    {
      "cell_type": "markdown",
      "metadata": {
        "id": "3QZq7B1llmiI"
      },
      "source": [
        "## Operaciones Esenciales para la Manipulación de las Listas\n",
        "\n"
      ]
    },
    {
      "cell_type": "markdown",
      "metadata": {
        "id": "aBdse-nPmltF"
      },
      "source": [
        "### Aplicación del Método Append"
      ]
    },
    {
      "cell_type": "markdown",
      "metadata": {
        "colab": {
          "base_uri": "https://localhost:8080/"
        },
        "id": "wgDezen4mmG7",
        "outputId": "fe4ef492-c8e0-4fca-c93e-8c74eda50092"
      },
      "source": [
        "```plainText\n",
        "ESTRUCTURA Y APLICACIÓN DEL METODO APPEND\n",
        "```\n",
        "```py\n",
        "my_list = list([7,6,3,4])\n",
        "my_list.append('hello')\n",
        "print(my_list)\n",
        "```\n",
        "```plainText\n",
        "Después de esto el contenido de la lista será [7, 6, 3, 4, 'hello']\n",
        "```"
      ]
    },
    {
      "cell_type": "markdown",
      "metadata": {
        "id": "26dL_YEtm4G4"
      },
      "source": [
        "### Aplicación del Método Insert"
      ]
    },
    {
      "cell_type": "markdown",
      "metadata": {
        "colab": {
          "base_uri": "https://localhost:8080/"
        },
        "id": "VOAmk3qym39G",
        "outputId": "46db1c00-9c32-42c1-a5a9-493ba4c6ca9a"
      },
      "source": [
        "```plainText\n",
        "ESTRUCTURA Y APLICACIÓN DEL METODO INSERT\n",
        "```\n",
        "```py\n",
        "print(\"Ejemeplo uso del método Insert\")\n",
        "my_list = list([7,6,3,4,5])\n",
        "my_list.insert(3, 'test')\n",
        "print(my_list)\n",
        "```\n",
        "```plainText\n",
        "Ahora el valor de la lista es [7, 6, 3, 'test', 4, 5]\n",
        "```"
      ]
    },
    {
      "cell_type": "markdown",
      "metadata": {
        "id": "NwMHzSVmnA26"
      },
      "source": [
        "### Aplicación de Remove"
      ]
    },
    {
      "cell_type": "markdown",
      "metadata": {
        "colab": {
          "base_uri": "https://localhost:8080/"
        },
        "id": "UJTVO9j7nAOF",
        "outputId": "53e70ad2-f140-4e16-ef7b-27cf93d68a53"
      },
      "source": [
        "```plainText\n",
        "ASIGNAR VALORES DE LA LISTA MEDIANTE EL USO DE \"REMOVE\" PARA ELIMINAR EN POSICIÓN\n",
        "```\n",
        "```py\n",
        "print(\"Ejemplo sin el uso de Remove\")\n",
        "my_list = list([7,6,3,4,5])\n",
        "\n",
        "my_list[1] = 4\n",
        "\n",
        "print(my_list)\n",
        "```\n",
        "```plainText\n",
        "Ahora el valor de la lista es [7, 4, 3, 4, 5]\n",
        "```\n",
        "```py\n",
        "print(\"Ejemplo con el uso de Remove por posición\")\n",
        "my_list = [7, 4, 3, 4, 5]\n",
        "\n",
        "my_list.remove(4)\n",
        "\n",
        "print(my_list)\n",
        "```\n",
        "```plainText\n",
        "Print: [7, 3, 4, 5]\n",
        "```"
      ]
    },
    {
      "cell_type": "markdown",
      "metadata": {
        "id": "NdteMcZeniFV"
      },
      "source": [
        "### Uso de POP para Eliminación por Clave"
      ]
    },
    {
      "cell_type": "markdown",
      "metadata": {
        "colab": {
          "base_uri": "https://localhost:8080/"
        },
        "id": "zB1YNCl0nh-5",
        "outputId": "41fcc4f8-d690-4885-a1ed-3a7214595729"
      },
      "source": [
        "```plainText\n",
        "USO DE POP PARA LA ELIMINACIÓN POR CLAVE\n",
        "```\n",
        "```py\n",
        "print(\"Ejemplo del uso de POP\")\n",
        "my_list = ['z', 'x', 'm', 'r', 'b']\n",
        "\n",
        "my_list.pop(2)\n",
        "\n",
        "print(my_list)\n",
        "```\n",
        "```plainText\n",
        "Print: ['z', 'x', 'r', 'b']\n",
        "```\n",
        "```py\n",
        "my_list.pop()\n",
        "\n",
        "print(my_list)\n",
        "```\n",
        "```plainText\n",
        "Print: ['z', 'x', 'r']\n",
        "```"
      ]
    },
    {
      "cell_type": "markdown",
      "metadata": {
        "id": "0EQCeVFbni3c"
      },
      "source": [
        "### Union de Listas Mediante el Uso de Operador +"
      ]
    },
    {
      "cell_type": "markdown",
      "metadata": {
        "colab": {
          "base_uri": "https://localhost:8080/"
        },
        "id": "db14bvNlnjNM",
        "outputId": "2d1c1940-48da-486e-b3b7-2a23b6fd552c"
      },
      "source": [
        "```plainText\n",
        "PARA UNIR LISTAS SE UTILIZA EL OPERADOR +\n",
        "```\n",
        "```py\n",
        "print(\"Ejemplo uso de operador + para unir listas\")\n",
        "my_list = ['x']\n",
        "my_list2 = ['m', 'c', 'r']\n",
        "my_list3 = my_list + my_list2\n",
        "print(my_list3)\n",
        "```\n",
        "```plainText\n",
        "Print: ['x', 'm', 'c', 'r']\n",
        "```"
      ]
    },
    {
      "cell_type": "markdown",
      "metadata": {
        "id": "Ly4QBSJjoK4J"
      },
      "source": [
        "### Repetición de Elementos Mediante el Uso de Operador *"
      ]
    },
    {
      "cell_type": "markdown",
      "metadata": {
        "colab": {
          "base_uri": "https://localhost:8080/"
        },
        "id": "GQO37s6QoKyJ",
        "outputId": "f1dca28e-0fd4-4371-a942-7e42d7778f7d"
      },
      "source": [
        "```plainText\n",
        "PARA REPETIR LOS ELEMENTOS DE UNA LISTA SE UTILIZA EL OPERADOR *\n",
        "```\n",
        "```py\n",
        "print(\"Ejemplo uso de operador * para repetir elementos de una lista\")\n",
        "my_list = ['a']\n",
        "my_list_x_5 = my_list * 5\n",
        "print(my_list_x_5)\n",
        "```\n",
        "```plainText\n",
        "Print: ['a','a','a','a','a']\n",
        "```"
      ]
    },
    {
      "cell_type": "markdown",
      "metadata": {
        "id": "KguTUmVgorkv"
      },
      "source": [
        "### Invertir el Orden de una Lista"
      ]
    },
    {
      "cell_type": "markdown",
      "metadata": {
        "colab": {
          "base_uri": "https://localhost:8080/"
        },
        "id": "Tw92KzIiorfP",
        "outputId": "7bc62e52-01ad-4add-ab14-0ba7f2f09105"
      },
      "source": [
        "```plainText\n",
        "PARA INVERTIR EL ORDEN DE UNA LISTA SE APLICARÁ LO SIGUIENTE\n",
        "```\n",
        "```py\n",
        "print(\"Ejemplo de inversion del orden de una lista\")\n",
        "my_list = [1, 2, 3, 4, 5]\n",
        "my_list_reversed = my_list[::-1]\n",
        "print(my_list_reversed)\n",
        "```\n",
        "```plainText\n",
        "Print: [5, 4, 3, 2, 1]\n",
        "```"
      ]
    },
    {
      "cell_type": "markdown",
      "metadata": {
        "id": "4axhTFXBo1_a"
      },
      "source": [
        "### Ordenar una Lista"
      ]
    },
    {
      "cell_type": "markdown",
      "metadata": {
        "colab": {
          "base_uri": "https://localhost:8080/"
        },
        "id": "2sxPlypio1vq",
        "outputId": "0c6fe704-127b-4bb4-f80a-6d8525ae5b08"
      },
      "source": [
        "```plainText\n",
        "PARA ORDENAR UNA LISTA SE APLICARA EL METODO SORT\n",
        "```\n",
        "```py\n",
        "print(\"Ejemplo de aplicación metodo Sort para ordenar una lista\")\n",
        "my_list = [2,1,5,4,3]\n",
        "my_list.sort()\n",
        "print(my_list)\n",
        "```\n",
        "```plainText\n",
        "Print: [1,2,3,4,5]\n",
        "```"
      ]
    },
    {
      "cell_type": "markdown",
      "metadata": {
        "id": "22_TzY2Xo9GA"
      },
      "source": [
        "### Eliminar una Lista Aplicando el Método Clear()"
      ]
    },
    {
      "cell_type": "markdown",
      "metadata": {
        "colab": {
          "base_uri": "https://localhost:8080/"
        },
        "id": "e-RO34OfpI6I",
        "outputId": "d10caa49-192a-4ac0-f7da-4c33b73682b2"
      },
      "source": [
        "```plainText\n",
        "PARA ELIMINAR UNA LISTA QUE YA NO USEMOS APLICAREMOS EL METODO CLEAR()\n",
        "```\n",
        "```py\n",
        "print(\"Ejemplo de aplicación del metodo clear() para eliminar una lista\")\n",
        "my_list = [2,1,5,4,3]\n",
        "my_list.clear()\n",
        "print(my_list)\n",
        "```\n",
        "```plainText\n",
        "Print: []\n",
        "```"
      ]
    },
    {
      "cell_type": "markdown",
      "metadata": {
        "id": "CI6-zkP8poFv"
      },
      "source": [
        "### Intercambio de Elementos de una Lista"
      ]
    },
    {
      "cell_type": "markdown",
      "metadata": {
        "colab": {
          "base_uri": "https://localhost:8080/"
        },
        "id": "75tf4YKL32ql",
        "outputId": "851454c0-b82d-4de6-e8e1-b7d8290e9987"
      },
      "source": [
        "```py \n",
        "my_list = list([7,6,3,4,5])\n",
        "\n",
        "my_list[1] = 4\n",
        "print(my_list)\n",
        "```"
      ]
    },
    {
      "cell_type": "markdown",
      "metadata": {
        "id": "pE4VV-XWrcB9"
      },
      "source": [
        "# Diccionarios en Python"
      ]
    },
    {
      "cell_type": "markdown",
      "metadata": {
        "id": "Dy0EVffFtXrm"
      },
      "source": [
        "## Estructura y Principales Metodos Aplicados en Diccionarios\n",
        "\n",
        "\n"
      ]
    },
    {
      "cell_type": "markdown",
      "metadata": {
        "id": "TFKEJpA9p1l1"
      },
      "source": [
        "### Principal Estructura para Hacer Diccionarios"
      ]
    },
    {
      "cell_type": "markdown",
      "metadata": {
        "colab": {
          "base_uri": "https://localhost:8080/"
        },
        "id": "90_qxPaRp1vO",
        "outputId": "3f04c13e-adf7-4c0c-d07a-0cf165f9bc19"
      },
      "source": [
        "```plainText\n",
        "Crear un diccionario vacío\n",
        "```\n",
        "```py\n",
        "my_dict = {}\n",
        "```\n",
        "```plainText\n",
        "Crear un diccionario con pares clave-valor\n",
        "```\n",
        "```py \n",
        "my_dict = {\n",
        "    \"clave1\": \"valor1\",\n",
        "    \"clave2\": \"valor2\",\n",
        "    \"clave3\": \"valor3\"\n",
        "}\n",
        "print(my_dict)\n",
        "```"
      ]
    },
    {
      "cell_type": "markdown",
      "metadata": {
        "id": "cDcTk4Q8qWXi"
      },
      "source": [
        "### Aplicación de la Función Dict()"
      ]
    },
    {
      "cell_type": "markdown",
      "metadata": {
        "colab": {
          "base_uri": "https://localhost:8080/"
        },
        "id": "iAZhIJ8VqWS2",
        "outputId": "2d8b0955-65d3-4b58-b4ca-670897804e02"
      },
      "source": [
        "```plainText\n",
        "APLICACIÓN DE LA FUNCIÓN DICT()\n",
        "Diccionario vacío inicializado con dict()\n",
        "```\n",
        "```py\n",
        "my_dict = dict()\n",
        "```\n",
        "```plainText\n",
        "Diccionario vacío inicializado con llaves\n",
        "```\n",
        "```py \n",
        "my_dict = {}\n",
        "```\n",
        "```plainText\n",
        "Diccionario inicializado con valores\n",
        "```\n",
        "```py\n",
        "my_dict = {'status': True, 'msg': 'ok'}\n",
        "print(my_dict)\n",
        "```"
      ]
    },
    {
      "cell_type": "markdown",
      "metadata": {
        "id": "mkvpAweFrewR"
      },
      "source": [
        "### Acceso al Valor de un Elemento"
      ]
    },
    {
      "cell_type": "markdown",
      "metadata": {
        "colab": {
          "base_uri": "https://localhost:8080/"
        },
        "id": "PlrEqaSHrerF",
        "outputId": "a03f1dfe-c7ee-483c-857b-e842ae5988a4"
      },
      "source": [
        "```plainText\n",
        "COMO SE DEBE ACCEDER AL VALOR DE UN ELEMENTO\n",
        "```\n",
        "```py\n",
        "print(\"Ejemeplo para acceder al valor de un elemento\")\n",
        "my_dict = {\n",
        "    'hello': 'World',\n",
        "    'msg': 'ok'\n",
        "}\n",
        "print(my_dict['hello'])\n",
        "```\n",
        "```plainText\n",
        "Print: World\n",
        "```"
      ]
    },
    {
      "cell_type": "markdown",
      "metadata": {
        "id": "TZtRigiFr9vI"
      },
      "source": [
        "### Aplicación del Bucle FOR y los Métodos Keys(), Values() e Items()"
      ]
    },
    {
      "cell_type": "markdown",
      "metadata": {
        "colab": {
          "base_uri": "https://localhost:8080/"
        },
        "id": "ZsatnvuLr9-R",
        "outputId": "615fed3c-6e08-4efa-f9d4-1c743976b69d"
      },
      "source": [
        "```plainText\n",
        "USO DEL BUCLE FOR, LOS METODOS KEYS(), VALUES(), ITEMS()\n",
        "```\n",
        "```py \n",
        "print(\"Aplicación de bucles for y los metodos keys(), Values(), Items()\")\n",
        "my_dict = {\n",
        "    'hello': 'World',\n",
        "    'msg': 'ok'\n",
        "}\n",
        "```\n",
        "```plainText\n",
        "Iterar en llaves\n",
        "```\n",
        "```py \n",
        "for key in my_dict.keys():\n",
        "    print(key)\n",
        "```\n",
        "```plainText\n",
        "Iterar en valores\n",
        "```\n",
        "```py \n",
        "for value in my_dict.values():\n",
        "    print(value)\n",
        "```\n",
        "```plainText\n",
        "Iterar en ítems\n",
        "```\n",
        "```py\n",
        "for key, value in my_dict.items():\n",
        "    print(f'key {key}, value {value}')\n",
        "```"
      ]
    }
  ],
  "metadata": {
    "colab": {
      "provenance": []
    },
    "kernelspec": {
      "display_name": "Python 3",
      "name": "python3"
    },
    "language_info": {
      "name": "python"
    }
  },
  "nbformat": 4,
  "nbformat_minor": 0
}
