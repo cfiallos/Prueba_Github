{
  "cells": [
    {
      "cell_type": "markdown",
      "metadata": {
        "id": "60nMDYqFfFxC"
      },
      "source": [
        "#Listas y Diccionarios de Python"
      ]
    },
    {
      "cell_type": "markdown",
      "metadata": {
        "id": "oEUjoACOrmcD"
      },
      "source": [
        "#Listas en Python"
      ]
    },
    {
      "cell_type": "markdown",
      "metadata": {
        "id": "-bR37r8Pfa8C"
      },
      "source": [
        "##¿Cómo se Debe Iniciar una Lista?"
      ]
    },
    {
      "cell_type": "markdown",
      "metadata": {
        "id": "Cz5XBCX5k1Do"
      },
      "source": [
        "###Estructura Principal de una Lista con y sin Elementos"
      ]
    },
    {
      "cell_type": "code",
      "execution_count": 13,
      "metadata": {
        "colab": {
          "base_uri": "https://localhost:8080/"
        },
        "id": "eLyANJ_pk6BK",
        "outputId": "d4ff3472-d205-4cfc-a2af-787e6011fcb3"
      },
      "outputs": [
        {
          "name": "stdout",
          "output_type": "stream",
          "text": [
            "[7, 6, 3, 4]\n",
            "['a', 'x', 'd']\n"
          ]
        }
      ],
      "source": [
        "#PRINCIPAL ESTRUCTURA PARA DECLARAR UNA LISTA\n",
        "my_list = list()\n",
        "my_list = []\n",
        "\n",
        "#ESTRUCTURA CON ELEMENTOS PREDEFINIDOS\n",
        "my_list = list([7,6,3,4])\n",
        "my_list2 = ['a', 'x', 'd']\n",
        "\n",
        "print(my_list)\n",
        "print(my_list2)"
      ]
    },
    {
      "cell_type": "markdown",
      "metadata": {
        "id": "084RNGfEl6GA"
      },
      "source": [
        "###Ejemplo de Uso de las Lista"
      ]
    },
    {
      "cell_type": "code",
      "execution_count": 14,
      "metadata": {
        "colab": {
          "base_uri": "https://localhost:8080/"
        },
        "id": "FpYs-n2Xl52a",
        "outputId": "60311b15-c3ba-4f1f-c66e-f2ea68408e41"
      },
      "outputs": [
        {
          "name": "stdout",
          "output_type": "stream",
          "text": [
            "Ejemplo de creación de Listas\n",
            "7\n",
            "6\n",
            "Ejemplo de aplicación de los Bucles en Listas\n",
            "7\n",
            "5\n",
            "9\n",
            "2\n",
            "3\n",
            "4\n"
          ]
        }
      ],
      "source": [
        "#EJEMEPLO DEL USO DE LAS LISTAS\n",
        "print(\"Ejemplo de creación de Listas\")\n",
        "my_list = list([7,6,3,4])\n",
        "\n",
        "# Mostrará el primer valor de la lista que es 7\n",
        "print(my_list[0])\n",
        "\n",
        "# Mostrará el segundo valor de la lista que es 6\n",
        "print(my_list[1])\n",
        "\n",
        "#USO DE BUCLES PARA MOSTRAR TODOS LOS VALORES\n",
        "my_list = [7, 5, 9, 2, 3, 4]\n",
        "print(\"Ejemplo de aplicación de los Bucles en Listas\")\n",
        "for value in my_list:\n",
        "    print(value)"
      ]
    },
    {
      "cell_type": "markdown",
      "metadata": {
        "id": "3QZq7B1llmiI"
      },
      "source": [
        "###Operaciones Esenciales para la Manipulación de las Listas\n",
        "\n"
      ]
    },
    {
      "cell_type": "markdown",
      "metadata": {
        "id": "aBdse-nPmltF"
      },
      "source": [
        "###Aplicación del Método Append"
      ]
    },
    {
      "cell_type": "code",
      "execution_count": 15,
      "metadata": {
        "colab": {
          "base_uri": "https://localhost:8080/"
        },
        "id": "wgDezen4mmG7",
        "outputId": "fe4ef492-c8e0-4fca-c93e-8c74eda50092"
      },
      "outputs": [
        {
          "name": "stdout",
          "output_type": "stream",
          "text": [
            "[7, 6, 3, 4, 'hello']\n"
          ]
        }
      ],
      "source": [
        "#ESTRUCTURA Y APLICACIÓN DEL METODO APPEND\n",
        "my_list = list([7,6,3,4])\n",
        "my_list.append('hello')\n",
        "print(my_list)\n",
        "# Después de esto el contenido de la lista será [7, 6, 3, 4, 'hello']"
      ]
    },
    {
      "cell_type": "markdown",
      "metadata": {
        "id": "26dL_YEtm4G4"
      },
      "source": [
        "###Aplicación del Método Insert"
      ]
    },
    {
      "cell_type": "code",
      "execution_count": 16,
      "metadata": {
        "colab": {
          "base_uri": "https://localhost:8080/"
        },
        "id": "VOAmk3qym39G",
        "outputId": "46db1c00-9c32-42c1-a5a9-493ba4c6ca9a"
      },
      "outputs": [
        {
          "name": "stdout",
          "output_type": "stream",
          "text": [
            "Ejemeplo uso del método Insert\n",
            "[7, 6, 3, 'test', 4, 5]\n"
          ]
        }
      ],
      "source": [
        "#ESTRUCTURA Y APLICACIÓN DEL METODO INSERT\n",
        "print(\"Ejemeplo uso del método Insert\")\n",
        "my_list = list([7,6,3,4,5])\n",
        "my_list.insert(3, 'test')\n",
        "print(my_list)\n",
        "# Ahora el valor de la lista es [7, 6, 3, 'test', 4, 5]"
      ]
    },
    {
      "cell_type": "markdown",
      "metadata": {
        "id": "NwMHzSVmnA26"
      },
      "source": [
        "###Aplicación de Remove"
      ]
    },
    {
      "cell_type": "code",
      "execution_count": 17,
      "metadata": {
        "colab": {
          "base_uri": "https://localhost:8080/"
        },
        "id": "UJTVO9j7nAOF",
        "outputId": "53e70ad2-f140-4e16-ef7b-27cf93d68a53"
      },
      "outputs": [
        {
          "name": "stdout",
          "output_type": "stream",
          "text": [
            "Ejemplo sin el uso de Remove\n",
            "[7, 4, 3, 4, 5]\n",
            "Ejemplo con el uso de Remove por posición\n",
            "[7, 3, 4, 5]\n"
          ]
        }
      ],
      "source": [
        "#ASIGNAR VALORES DE LA LISTA MEDIANTE EL USO DE \"REMOVE\" PARA ELIMINAR EN POSICIÓN\n",
        "print(\"Ejemplo sin el uso de Remove\")\n",
        "my_list = list([7,6,3,4,5])\n",
        "\n",
        "my_list[1] = 4\n",
        "\n",
        "print(my_list)\n",
        "# Ahora el valor de la lista es [7, 4, 3, 4, 5]\n",
        "print(\"Ejemplo con el uso de Remove por posición\")\n",
        "my_list = [7, 4, 3, 4, 5]\n",
        "\n",
        "my_list.remove(4)\n",
        "\n",
        "print(my_list)\n",
        "# Print: [7, 3, 4, 5]"
      ]
    },
    {
      "cell_type": "markdown",
      "metadata": {
        "id": "NdteMcZeniFV"
      },
      "source": [
        "###Uso de POP para Eliminación por Clave"
      ]
    },
    {
      "cell_type": "code",
      "execution_count": 18,
      "metadata": {
        "colab": {
          "base_uri": "https://localhost:8080/"
        },
        "id": "zB1YNCl0nh-5",
        "outputId": "41fcc4f8-d690-4885-a1ed-3a7214595729"
      },
      "outputs": [
        {
          "name": "stdout",
          "output_type": "stream",
          "text": [
            "Ejemplo del uso de POP\n",
            "['z', 'x', 'r', 'b']\n",
            "['z', 'x', 'r']\n"
          ]
        }
      ],
      "source": [
        "#USO DE POP PARA LA ELIMINACIÓN POR CLAVE\n",
        "print(\"Ejemplo del uso de POP\")\n",
        "my_list = ['z', 'x', 'm', 'r', 'b']\n",
        "\n",
        "my_list.pop(2)\n",
        "\n",
        "print(my_list)\n",
        "# Print: ['z', 'x', 'r', 'b']\n",
        "my_list.pop()\n",
        "\n",
        "print(my_list)\n",
        "# Print: ['z', 'x', 'r']"
      ]
    },
    {
      "cell_type": "markdown",
      "metadata": {
        "id": "0EQCeVFbni3c"
      },
      "source": [
        "###Union de Listas Mediante el Uso de Operador +"
      ]
    },
    {
      "cell_type": "code",
      "execution_count": 19,
      "metadata": {
        "colab": {
          "base_uri": "https://localhost:8080/"
        },
        "id": "db14bvNlnjNM",
        "outputId": "2d1c1940-48da-486e-b3b7-2a23b6fd552c"
      },
      "outputs": [
        {
          "name": "stdout",
          "output_type": "stream",
          "text": [
            "Ejemplo uso de operador + para unir listas\n",
            "['x', 'm', 'c', 'r']\n"
          ]
        }
      ],
      "source": [
        "#PARA UNIR LISTAS SE UTILIZA EL OPERADOR +\n",
        "print(\"Ejemplo uso de operador + para unir listas\")\n",
        "my_list = ['x']\n",
        "my_list2 = ['m', 'c', 'r']\n",
        "my_list3 = my_list + my_list2\n",
        "print(my_list3)\n",
        "# Print: ['x', 'm', 'c', 'r']"
      ]
    },
    {
      "cell_type": "markdown",
      "metadata": {
        "id": "Ly4QBSJjoK4J"
      },
      "source": [
        "###Repetición de Elementos Mediante el Uso de Operador *"
      ]
    },
    {
      "cell_type": "code",
      "execution_count": 20,
      "metadata": {
        "colab": {
          "base_uri": "https://localhost:8080/"
        },
        "id": "GQO37s6QoKyJ",
        "outputId": "f1dca28e-0fd4-4371-a942-7e42d7778f7d"
      },
      "outputs": [
        {
          "name": "stdout",
          "output_type": "stream",
          "text": [
            "Ejemplo uso de operador * para repetir elementos de una lista\n",
            "['a', 'a', 'a', 'a', 'a']\n"
          ]
        }
      ],
      "source": [
        "#PARA REPETIR LOS ELEMENTOS DE UNA LISTA SE UTILIZA EL OPERADOR *\n",
        "print(\"Ejemplo uso de operador * para repetir elementos de una lista\")\n",
        "my_list = ['a']\n",
        "my_list_x_5 = my_list * 5\n",
        "print(my_list_x_5)\n",
        "# Print: ['a','a','a','a','a']"
      ]
    },
    {
      "cell_type": "markdown",
      "metadata": {
        "id": "KguTUmVgorkv"
      },
      "source": [
        "###Invertir el Orden de una Lista"
      ]
    },
    {
      "cell_type": "code",
      "execution_count": 21,
      "metadata": {
        "colab": {
          "base_uri": "https://localhost:8080/"
        },
        "id": "Tw92KzIiorfP",
        "outputId": "7bc62e52-01ad-4add-ab14-0ba7f2f09105"
      },
      "outputs": [
        {
          "name": "stdout",
          "output_type": "stream",
          "text": [
            "Ejemplo de inversion del orden de una lista\n",
            "[5, 4, 3, 2, 1]\n"
          ]
        }
      ],
      "source": [
        "#PARA INVERTIR EL ORDEN DE UNA LISTA SE APLICARÁ LO SIGUIENTE\n",
        "print(\"Ejemplo de inversion del orden de una lista\")\n",
        "my_list = [1, 2, 3, 4, 5]\n",
        "my_list_reversed = my_list[::-1]\n",
        "print(my_list_reversed)\n",
        "# Print: [5, 4, 3, 2, 1]"
      ]
    },
    {
      "cell_type": "markdown",
      "metadata": {
        "id": "4axhTFXBo1_a"
      },
      "source": [
        "###Ordenar una Lista"
      ]
    },
    {
      "cell_type": "code",
      "execution_count": 22,
      "metadata": {
        "colab": {
          "base_uri": "https://localhost:8080/"
        },
        "id": "2sxPlypio1vq",
        "outputId": "0c6fe704-127b-4bb4-f80a-6d8525ae5b08"
      },
      "outputs": [
        {
          "name": "stdout",
          "output_type": "stream",
          "text": [
            "Ejemplo de aplicación metodo Sort para ordenar una lista\n",
            "[1, 2, 3, 4, 5]\n"
          ]
        }
      ],
      "source": [
        "#PARA ORDENAR UNA LISTA SE APLICARA EL METODO SORT\n",
        "print(\"Ejemplo de aplicación metodo Sort para ordenar una lista\")\n",
        "my_list = [2,1,5,4,3]\n",
        "my_list.sort()\n",
        "print(my_list)\n",
        "# Print: [1,2,3,4,5]"
      ]
    },
    {
      "cell_type": "markdown",
      "metadata": {
        "id": "22_TzY2Xo9GA"
      },
      "source": [
        "###Eliminar una Lista Aplicando el Método Clear()"
      ]
    },
    {
      "cell_type": "code",
      "execution_count": 23,
      "metadata": {
        "colab": {
          "base_uri": "https://localhost:8080/"
        },
        "id": "e-RO34OfpI6I",
        "outputId": "d10caa49-192a-4ac0-f7da-4c33b73682b2"
      },
      "outputs": [
        {
          "name": "stdout",
          "output_type": "stream",
          "text": [
            "Ejemplo de aplicación del metodo clear() para eliminar una lista\n",
            "[]\n"
          ]
        }
      ],
      "source": [
        "#PARA ELIMINAR UNA LISTA QUE YA NO USEMOS APLICAREMOS EL METODO CLEAR()\n",
        "print(\"Ejemplo de aplicación del metodo clear() para eliminar una lista\")\n",
        "my_list = [2,1,5,4,3]\n",
        "my_list.clear()\n",
        "print(my_list)\n",
        "# Print: []"
      ]
    },
    {
      "cell_type": "markdown",
      "metadata": {
        "id": "CI6-zkP8poFv"
      },
      "source": [
        "###Intercambio de Elementos de una Lista"
      ]
    },
    {
      "cell_type": "code",
      "execution_count": 24,
      "metadata": {
        "colab": {
          "base_uri": "https://localhost:8080/"
        },
        "id": "75tf4YKL32ql",
        "outputId": "851454c0-b82d-4de6-e8e1-b7d8290e9987"
      },
      "outputs": [
        {
          "name": "stdout",
          "output_type": "stream",
          "text": [
            "[7, 4, 3, 4, 5]\n"
          ]
        }
      ],
      "source": [
        "my_list = list([7,6,3,4,5])\n",
        "\n",
        "my_list[1] = 4\n",
        "print(my_list)"
      ]
    },
    {
      "cell_type": "markdown",
      "metadata": {
        "id": "pE4VV-XWrcB9"
      },
      "source": [
        "#Diccionarios en Python"
      ]
    },
    {
      "cell_type": "markdown",
      "metadata": {
        "id": "Dy0EVffFtXrm"
      },
      "source": [
        "##Estructura y Principales Metodos Aplicados en Diccionarios\n",
        "\n",
        "\n"
      ]
    },
    {
      "cell_type": "markdown",
      "metadata": {
        "id": "TFKEJpA9p1l1"
      },
      "source": [
        "###Principal Estructura para Hacer Diccionarios"
      ]
    },
    {
      "cell_type": "code",
      "execution_count": null,
      "metadata": {
        "colab": {
          "base_uri": "https://localhost:8080/"
        },
        "id": "90_qxPaRp1vO",
        "outputId": "3f04c13e-adf7-4c0c-d07a-0cf165f9bc19"
      },
      "outputs": [
        {
          "name": "stdout",
          "output_type": "stream",
          "text": [
            "{'clave1': 'valor1', 'clave2': 'valor2', 'clave3': 'valor3'}\n"
          ]
        }
      ],
      "source": [
        "# Crear un diccionario vacío\n",
        "my_dict = {}\n",
        "\n",
        "# Crear un diccionario con pares clave-valor\n",
        "my_dict = {\n",
        "    \"clave1\": \"valor1\",\n",
        "    \"clave2\": \"valor2\",\n",
        "    \"clave3\": \"valor3\"\n",
        "}\n",
        "print(my_dict)"
      ]
    },
    {
      "cell_type": "markdown",
      "metadata": {
        "id": "cDcTk4Q8qWXi"
      },
      "source": [
        "###Aplicación de la Función Dict()"
      ]
    },
    {
      "cell_type": "code",
      "execution_count": null,
      "metadata": {
        "colab": {
          "base_uri": "https://localhost:8080/"
        },
        "id": "iAZhIJ8VqWS2",
        "outputId": "2d8b0955-65d3-4b58-b4ca-670897804e02"
      },
      "outputs": [
        {
          "name": "stdout",
          "output_type": "stream",
          "text": [
            "{'status': True, 'msg': 'ok'}\n"
          ]
        }
      ],
      "source": [
        "#APLICACIÓN DE LA FUNCIÓN DICT()\n",
        "# Diccionario vacío inicializado con dict()\n",
        "my_dict = dict()\n",
        "# Diccionario vacío inicializado con llaves\n",
        "my_dict = {}\n",
        "# Diccionario inicializado con valores\n",
        "my_dict = {'status': True, 'msg': 'ok'}\n",
        "print(my_dict)"
      ]
    },
    {
      "cell_type": "markdown",
      "metadata": {
        "id": "mkvpAweFrewR"
      },
      "source": [
        "###Acceso al Valor de un Elemento"
      ]
    },
    {
      "cell_type": "code",
      "execution_count": null,
      "metadata": {
        "colab": {
          "base_uri": "https://localhost:8080/"
        },
        "id": "PlrEqaSHrerF",
        "outputId": "a03f1dfe-c7ee-483c-857b-e842ae5988a4"
      },
      "outputs": [
        {
          "name": "stdout",
          "output_type": "stream",
          "text": [
            "Ejemeplo para acceder al valor de un elemento\n",
            "World\n"
          ]
        }
      ],
      "source": [
        "#COMO SE DEBE ACCEDER AL VALOR DE UN ELEMENTO\n",
        "print(\"Ejemeplo para acceder al valor de un elemento\")\n",
        "my_dict = {\n",
        "    'hello': 'World',\n",
        "    'msg': 'ok'\n",
        "}\n",
        "\n",
        "print(my_dict['hello'])\n",
        "# Print: World"
      ]
    },
    {
      "cell_type": "markdown",
      "metadata": {
        "id": "TZtRigiFr9vI"
      },
      "source": [
        "###Aplicación del Bucle FOR y los Métodos Keys(), Values() e Items()"
      ]
    },
    {
      "cell_type": "code",
      "execution_count": null,
      "metadata": {
        "colab": {
          "base_uri": "https://localhost:8080/"
        },
        "id": "ZsatnvuLr9-R",
        "outputId": "615fed3c-6e08-4efa-f9d4-1c743976b69d"
      },
      "outputs": [
        {
          "name": "stdout",
          "output_type": "stream",
          "text": [
            "Aplicación de bucles for y los metodos keys(), Values(), Items()\n",
            "hello\n",
            "msg\n",
            "World\n",
            "ok\n",
            "key hello, value World\n",
            "key msg, value ok\n"
          ]
        }
      ],
      "source": [
        "#USO DEL BUCLE FOR, LOS METODOS KEYS(), VALUES(), ITEMS()\n",
        "print(\"Aplicación de bucles for y los metodos keys(), Values(), Items()\")\n",
        "my_dict = {\n",
        "    'hello': 'World',\n",
        "    'msg': 'ok'\n",
        "}\n",
        "\n",
        "# Iterar en llaves\n",
        "for key in my_dict.keys():\n",
        "    print(key)\n",
        "\n",
        "# Iterar en valores\n",
        "for value in my_dict.values():\n",
        "    print(value)\n",
        "\n",
        "# Iterar en ítems\n",
        "for key, value in my_dict.items():\n",
        "    print(f'key {key}, value {value}')"
      ]
    }
  ],
  "metadata": {
    "colab": {
      "provenance": []
    },
    "kernelspec": {
      "display_name": "Python 3",
      "name": "python3"
    },
    "language_info": {
      "name": "python"
    }
  },
  "nbformat": 4,
  "nbformat_minor": 0
}
